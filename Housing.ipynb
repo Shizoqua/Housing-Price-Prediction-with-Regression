{
 "cells": [
  {
   "cell_type": "markdown",
   "metadata": {},
   "source": [
    "# Housing Prices: Advanced Regression Analysis\n",
    "\n",
    "This notebook explores the housing dataset from [Kaggle](https://www.kaggle.com/c/home-data-for-ml-course/overview).\n",
    "The dataset contains 79 variables describing various aspects of residential homes in Ames, Iowa. The data has been separated into training and test sets. The goal is to predict the final Sale Price of the houses in the test data set. \n",
    "\n",
    "Advanced feature engineering is used to infer missing values in the data set. The categorical features are transformed into numerical features using one hot encoding. \n",
    "The performances of various regression techniques such as Random Forest, Stochastic Gradient Descent, Gradient Boosting, and Xtremme Gradient Boosting are compared. Using the best fit model, I got a score of 0.13472 in the Kaggle competition."
   ]
  },
  {
   "cell_type": "markdown",
   "metadata": {},
   "source": [
    "## Import necessary libraries"
   ]
  },
  {
   "cell_type": "code",
   "execution_count": 2,
   "metadata": {},
   "outputs": [],
   "source": [
    "import numpy as np\n",
    "import pandas as pd\n",
    "import matplotlib.pyplot as plt\n",
    "import seaborn as sns\n",
    "pd.set_option('display.max_rows', None)"
   ]
  }
 ],
 "metadata": {
  "kernelspec": {
   "display_name": "base",
   "language": "python",
   "name": "python3"
  },
  "language_info": {
   "codemirror_mode": {
    "name": "ipython",
    "version": 3
   },
   "file_extension": ".py",
   "mimetype": "text/x-python",
   "name": "python",
   "nbconvert_exporter": "python",
   "pygments_lexer": "ipython3",
   "version": "3.11.4"
  }
 },
 "nbformat": 4,
 "nbformat_minor": 2
}
